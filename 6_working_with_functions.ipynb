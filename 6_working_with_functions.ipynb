{
 "cells": [
  {
   "cell_type": "markdown",
   "metadata": {},
   "source": [
    "# Defining and Calling Functions in Python\n",
    "\n",
    "Here, we demonstrate how to define and call functions in Python. We will create a function to value a bond using the market standard bond formula and a function to value an option using the Black-Scholes model. Additionally, we will discuss and provide examples of functions with default parameter values, calling functions with and without arguments, calling functions with different numbers of arguments, functions with multiple return values, and functions with keyword arguments."
   ]
  },
  {
   "cell_type": "markdown",
   "metadata": {},
   "source": [
    "## 1. Defining and Calling Functions\n",
    "\n",
    "Functions are reusable blocks of code that perform a specific task. They help to organize and modularize code, making it more readable and maintainable.\n",
    "\n",
    "### Syntax for Defining a Function\n",
    "```python\n",
    "def function_name(parameters):\n",
    "    # Function body\n",
    "    return result\n",
    "```\n",
    "\n",
    "### Syntax for Calling a Function\n",
    "```python\n",
    "result = function_name(arguments)\n",
    "```\n",
    "\n",
    "Let's start with a simple example of defining and calling a function."
   ]
  },
  {
   "cell_type": "code",
   "execution_count": null,
   "metadata": {},
   "outputs": [],
   "source": [
    "# Define a function to calculate the square of a number\n",
    "def square(x):\n",
    "    return x * x\n",
    "\n",
    "# Call the function\n",
    "result = square(5)\n",
    "print(\"The square of 5 is:\", result)"
   ]
  },
  {
   "cell_type": "markdown",
   "metadata": {},
   "source": [
    "## 2. Valuing a Bond Using the Market Standard Bond Formula\n",
    "\n",
    "The market standard bond formula calculates the present value of a bond's future cash flows, which include periodic coupon payments and the face value at maturity.\n",
    "\n",
    "### Bond Valuation Formula\n",
    "The present value of a bond is given by:\n",
    "```python\n",
    "PV = C * (1 - (1 + r)^-n) / r + F / (1 + r)^n\n",
    "```\n",
    "Where:\n",
    "- `PV` is the present value of the bond\n",
    "- `C` is the annual coupon payment\n",
    "- `r` is the discount rate (yield to maturity)\n",
    "- `n` is the number of years to maturity\n",
    "- `F` is the face value of the bond\n",
    "\n",
    "Let's define a function to value a bond using this formula."
   ]
  },
  {
   "cell_type": "code",
   "execution_count": null,
   "metadata": {},
   "outputs": [],
   "source": [
    "# Define a function to value a bond\n",
    "def bond_valuation(C, r, n, F):\n",
    "    PV = C * (1 - (1 + r)**-n) / r + F / (1 + r)**n\n",
    "    return PV\n",
    "\n",
    "# Example usage\n",
    "C = 50  # Annual coupon payment\n",
    "r = 0.05  # Discount rate (yield to maturity)\n",
    "n = 10  # Number of years to maturity\n",
    "F = 1000  # Face value of the bond\n",
    "\n",
    "bond_value = bond_valuation(C, r, n, F)\n",
    "print(\"The present value of the bond is:\", bond_value)"
   ]
  },
  {
   "cell_type": "markdown",
   "metadata": {},
   "source": [
    "## 3. Valuing an Option Using the Black-Scholes Model\n",
    "\n",
    "The Black-Scholes model is used to calculate the theoretical price of European call and put options.\n",
    "\n",
    "### Black-Scholes Formula\n",
    "The Black-Scholes formula for a call option is given by:\n",
    "```python\n",
    "C = S * N(d1) - X * e^(-r * T) * N(d2)\n",
    "```\n",
    "Where:\n",
    "- `C` is the call option price\n",
    "- `S` is the current stock price\n",
    "- `X` is the strike price\n",
    "- `r` is the risk-free interest rate\n",
    "- `T` is the time to maturity (in years)\n",
    "- `N(d1)` and `N(d2)` are the cumulative distribution functions of the standard normal distribution\n",
    "\n",
    "The terms `d1` and `d2` are calculated as follows:\n",
    "```python\n",
    "d1 = (log(S / X) + (r + sigma^2 / 2) * T) / (sigma * sqrt(T))\n",
    "d2 = d1 - sigma * sqrt(T)\n",
    "```\n",
    "Where `sigma` is the volatility of the stock's returns.\n",
    "\n",
    "Let's define a function to value a call option using the Black-Scholes model."
   ]
  },
  {
   "cell_type": "code",
   "execution_count": null,
   "metadata": {},
   "outputs": [],
   "source": [
    "# Import necessary libraries\n",
    "import math\n",
    "from scipy.stats import norm\n",
    "\n",
    "# Define a function to value a call option using the Black-Scholes model\n",
    "def black_scholes_call(S, X, T, r, sigma):\n",
    "    d1 = (math.log(S / X) + (r + sigma**2 / 2) * T) / (sigma * math.sqrt(T))\n",
    "    d2 = d1 - sigma * math.sqrt(T)\n",
    "    call_price = S * norm.cdf(d1) - X * math.exp(-r * T) * norm.cdf(d2)\n",
    "    delta = norm.cdf(d1)\n",
    "    return call_price, delta\n",
    "\n",
    "# Example usage\n",
    "S = 100  # Current stock price\n",
    "X = 95  # Strike price\n",
    "T = 1  # Time to maturity (in years)\n",
    "r = 0.05  # Risk-free interest rate\n",
    "sigma = 0.2  # Volatility\n",
    "\n",
    "call_option_price, delta = black_scholes_call(S, X, T, r, sigma)\n",
    "print(\"The price of the call option is:\", call_option_price)\n",
    "print(\"The delta of the call option is:\", delta)"
   ]
  },
  {
   "cell_type": "markdown",
   "metadata": {},
   "source": [
    "## 4. Functions with Default Parameter Values\n",
    "\n",
    "You can define functions with default parameter values. If the caller does not provide a value for a parameter, the default value is used.\n",
    "\n",
    "### Example: Bond Valuation with Default Discount Rate\n",
    "Let's modify the bond valuation function to use a default discount rate of 5%."
   ]
  },
  {
   "cell_type": "code",
   "execution_count": null,
   "metadata": {},
   "outputs": [],
   "source": [
    "# Define a function to value a bond with a default discount rate\n",
    "def bond_valuation(C, n, F, r=0.05):\n",
    "    PV = C * (1 - (1 + r)**-n) / r + F / (1 + r)**n\n",
    "    return PV\n",
    "\n",
    "# Example usage with default discount rate\n",
    "C = 50  # Annual coupon payment\n",
    "n = 10  # Number of years to maturity\n",
    "F = 1000  # Face value of the bond\n",
    "\n",
    "bond_value_default_r = bond_valuation(C, n, F)\n",
    "print(\"The present value of the bond with default discount rate is:\", bond_value_default_r)\n",
    "\n",
    "# Example usage with specified discount rate\n",
    "r = 0.06  # Discount rate (yield to maturity)\n",
    "bond_value_specified_r = bond_valuation(C, n, F, r)\n",
    "print(\"The present value of the bond with specified discount rate is:\", bond_value_specified_r)"
   ]
  },
  {
   "cell_type": "markdown",
   "metadata": {},
   "source": [
    "## 5. Calling Functions with and Without Arguments\n",
    "\n",
    "You can call functions with or without arguments, depending on how they are defined.\n",
    "\n",
    "### Example: Function to Print a Default Message or a Custom Message"
   ]
  },
  {
   "cell_type": "code",
   "execution_count": null,
   "metadata": {},
   "outputs": [],
   "source": [
    "# Define a function to print a message\n",
    "def print_message(message=\"Hello, World!\"):\n",
    "    print(message)\n",
    "\n",
    "# Call the function without arguments\n",
    "print_message()\n",
    "\n",
    "# Call the function with an argument\n",
    "print_message(\"Welcome to Financial Markets!\")"
   ]
  },
  {
   "cell_type": "markdown",
   "metadata": {},
   "source": [
    "## 6. Calling Functions with Different Numbers of Arguments\n",
    "\n",
    "You can define functions that accept a variable number of arguments using `*args` and `**kwargs`.\n",
    "\n",
    "### Example: Function to Calculate the Sum of Multiple Numbers"
   ]
  },
  {
   "cell_type": "code",
   "execution_count": null,
   "metadata": {},
   "outputs": [],
   "source": [
    "# Define a function to calculate the sum of multiple numbers\n",
    "def calculate_sum(*args):\n",
    "    return sum(args)\n",
    "\n",
    "# Call the function with different numbers of arguments\n",
    "sum1 = calculate_sum(10, 20)\n",
    "sum2 = calculate_sum(5, 15, 25, 35)\n",
    "\n",
    "print(\"Sum of 10 and 20 is:\", sum1)\n",
    "print(\"Sum of 5, 15, 25, and 35 is:\", sum2)"
   ]
  },
  {
   "cell_type": "markdown",
   "metadata": {},
   "source": [
    "## 7. Functions with Multiple Return Values\n",
    "\n",
    "Functions can return multiple values using tuples.\n",
    "\n",
    "### Example: Black-Scholes Model Returning Call Price and Delta\n",
    "We have already modified the `black_scholes_call` function to return both the call price and the delta."
   ]
  },
  {
   "cell_type": "code",
   "execution_count": null,
   "metadata": {},
   "outputs": [],
   "source": [
    "# Example usage of black_scholes_call function\n",
    "S = 100  # Current stock price\n",
    "X = 95  # Strike price\n",
    "T = 1  # Time to maturity (in years)\n",
    "r = 0.05  # Risk-free interest rate\n",
    "sigma = 0.2  # Volatility\n",
    "\n",
    "call_option_price, delta = black_scholes_call(S, X, T, r, sigma)\n",
    "print(\"The price of the call option is:\", call_option_price)\n",
    "print(\"The delta of the call option is:\", delta)"
   ]
  },
  {
   "cell_type": "markdown",
   "metadata": {},
   "source": [
    "## 8. Functions with Keyword Arguments\n",
    "\n",
    "You can call functions using keyword arguments to make your code more readable and to specify arguments in any order.\n",
    "\n",
    "### Example: Bond Valuation with Keyword Arguments"
   ]
  },
  {
   "cell_type": "code",
   "execution_count": null,
   "metadata": {},
   "outputs": [],
   "source": [
    "# Define a function to value a bond with keyword arguments\n",
    "def bond_valuation(C, n, F, r=0.05):\n",
    "    PV = C * (1 - (1 + r)**-n) / r + F / (1 + r)**n\n",
    "    return PV\n",
    "\n",
    "# Example usage with keyword arguments\n",
    "bond_value_kw = bond_valuation(C=50, n=10, F=1000, r=0.06)\n",
    "print(\"The present value of the bond with keyword arguments is:\", bond_value_kw)"
   ]
  }
 ],
 "metadata": {
  "kernelspec": {
   "display_name": "Python 3",
   "language": "python",
   "name": "python3"
  },
  "language_info": {
   "codemirror_mode": {
    "name": "ipython",
    "version": 3
   },
   "file_extension": ".py",
   "mimetype": "text/x-python",
   "name": "python",
   "nbconvert_exporter": "python",
   "pygments_lexer": "ipython3",
   "version": "3.12.1"
  }
 },
 "nbformat": 4,
 "nbformat_minor": 4
}
