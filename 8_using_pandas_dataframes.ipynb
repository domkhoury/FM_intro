{
 "cells": [
  {
   "cell_type": "markdown",
   "metadata": {},
   "source": [
    "# Using and Manipulating Pandas DataFrames: Financial Markets Examples\n",
    "\n",
    "This notebook provides a comprehensive guide on how to use and manipulate Pandas DataFrames using examples from financial markets. Pandas is a powerful library for data manipulation and analysis in Python. It provides data structures like Series and DataFrame, which are essential for handling structured data."
   ]
  },
  {
   "cell_type": "markdown",
   "metadata": {},
   "source": [
    "## 1. Introduction to Pandas DataFrames\n",
    "\n",
    "A DataFrame is a two-dimensional, size-mutable, and potentially heterogeneous tabular data structure with labeled axes (rows and columns). It is similar to a spreadsheet or SQL table.\n",
    "\n",
    "### Importing Pandas\n",
    "First, we need to import the Pandas library."
   ]
  },
  {
   "cell_type": "code",
   "execution_count": 18,
   "metadata": {},
   "outputs": [],
   "source": [
    "import pandas as pd"
   ]
  },
  {
   "cell_type": "markdown",
   "metadata": {},
   "source": [
    "### Creating a DataFrame\n",
    "Let's create a DataFrame with some financial market data."
   ]
  },
  {
   "cell_type": "code",
   "execution_count": null,
   "metadata": {},
   "outputs": [],
   "source": [
    "# Creating a DataFrame\n",
    "data = {\n",
    "    'Date': pd.date_range(start='2023-01-01', periods=5, freq='D'),\n",
    "    'AAPL': [150.75, 153.30, 149.50, 155.00, 157.25],\n",
    "    'GOOGL': [2800.50, 2820.00, 2790.00, 2850.00, 2900.00],\n",
    "    'MSFT': [299.00, 305.00, 300.00, 310.00, 315.00]\n",
    "}\n",
    "df = pd.DataFrame(data)\n",
    "print(df)"
   ]
  },
  {
   "cell_type": "markdown",
   "metadata": {},
   "source": [
    "## 2. Basic DataFrame Operations\n",
    "\n",
    "### Viewing Data\n",
    "You can view the first few rows of the DataFrame using the `head()` method and the last few rows using the `tail()` method."
   ]
  },
  {
   "cell_type": "code",
   "execution_count": null,
   "metadata": {},
   "outputs": [],
   "source": [
    "# Viewing the first few rows\n",
    "print(df.head())\n",
    "\n",
    "# Viewing the last few rows\n",
    "print(df.tail())"
   ]
  },
  {
   "cell_type": "markdown",
   "metadata": {},
   "source": [
    "### Getting DataFrame Information\n",
    "You can get information about the DataFrame using the `info()` method and summary statistics using the `describe()` method."
   ]
  },
  {
   "cell_type": "code",
   "execution_count": null,
   "metadata": {},
   "outputs": [],
   "source": [
    "# Getting DataFrame information\n",
    "print(df.info())\n",
    "\n",
    "# Getting summary statistics\n",
    "print(df.describe())"
   ]
  },
  {
   "cell_type": "markdown",
   "metadata": {},
   "source": [
    "### Accessing Data\n",
    "You can access data in a DataFrame using column names and row indices."
   ]
  },
  {
   "cell_type": "code",
   "execution_count": null,
   "metadata": {},
   "outputs": [],
   "source": [
    "# Accessing a single column\n",
    "print(df['AAPL'])\n",
    "\n",
    "# Accessing multiple columns\n",
    "print(df[['AAPL', 'GOOGL']])\n",
    "\n",
    "# Accessing a single row by index\n",
    "print(df.iloc[0])\n",
    "\n",
    "# Accessing multiple rows by index\n",
    "print(df.iloc[0:2])\n",
    "\n",
    "# Accessing a specific value\n",
    "print(df.at[0, 'AAPL'])"
   ]
  },
  {
   "cell_type": "markdown",
   "metadata": {},
   "source": [
    "## 3. Data Manipulation\n",
    "\n",
    "### Adding and Removing Columns\n",
    "You can add new columns to the DataFrame and remove existing columns."
   ]
  },
  {
   "cell_type": "code",
   "execution_count": null,
   "metadata": {},
   "outputs": [],
   "source": [
    "# Adding a new column\n",
    "df['AMZN'] = [3400.00, 3420.00, 3390.00, 3450.00, 3500.00]\n",
    "print(df)\n",
    "\n",
    "# Removing a column\n",
    "df = df.drop(columns=['AMZN'])\n",
    "print(df)"
   ]
  },
  {
   "cell_type": "markdown",
   "metadata": {},
   "source": [
    "### Adding and Removing Rows\n",
    "You can add new rows to the DataFrame and remove existing rows."
   ]
  },
  {
   "cell_type": "code",
   "execution_count": null,
   "metadata": {},
   "outputs": [],
   "source": [
    "# Adding a new row\n",
    "new_row = {'Date': '2023-01-06', 'AAPL': 160.00, 'GOOGL': 2950.00, 'MSFT': 320.00}\n",
    "df = pd.concat([df, pd.DataFrame([new_row])], ignore_index=True)\n",
    "print(df)\n",
    "\n",
    "# Removing a row\n",
    "if 5 in df.index:\n",
    "    df = df.drop(index=5)\n",
    "print(df)"
   ]
  },
  {
   "cell_type": "markdown",
   "metadata": {},
   "source": [
    "### Filtering Data\n",
    "You can filter data in the DataFrame based on certain conditions."
   ]
  },
  {
   "cell_type": "code",
   "execution_count": null,
   "metadata": {},
   "outputs": [],
   "source": [
    "# Filtering rows where AAPL price is greater than 150\n",
    "filtered_df = df[df['AAPL'] > 150]\n",
    "print(filtered_df)"
   ]
  },
  {
   "cell_type": "markdown",
   "metadata": {},
   "source": [
    "### Sorting Data\n",
    "You can sort data in the DataFrame by one or more columns."
   ]
  },
  {
   "cell_type": "code",
   "execution_count": null,
   "metadata": {},
   "outputs": [],
   "source": [
    "# Sorting by AAPL prices\n",
    "sorted_df = df.sort_values(by='AAPL')\n",
    "print(sorted_df)\n",
    "\n",
    "# Sorting by multiple columns\n",
    "sorted_df = df.sort_values(by=['AAPL', 'GOOGL'])\n",
    "print(sorted_df)"
   ]
  },
  {
   "cell_type": "markdown",
   "metadata": {},
   "source": [
    "## 4. Handling Missing Data\n",
    "\n",
    "### Detecting Missing Data\n",
    "You can detect missing data in the DataFrame."
   ]
  },
  {
   "cell_type": "code",
   "execution_count": null,
   "metadata": {},
   "outputs": [],
   "source": [
    "# Detecting missing data\n",
    "df_with_nan = df.copy()\n",
    "df_with_nan.loc[2, 'AAPL'] = None\n",
    "print(df_with_nan.isnull())\n",
    "print(df_with_nan.isnull().sum())"
   ]
  },
  {
   "cell_type": "markdown",
   "metadata": {},
   "source": [
    "### Handling Missing Data\n",
    "You can handle missing data by filling or dropping missing values."
   ]
  },
  {
   "cell_type": "code",
   "execution_count": null,
   "metadata": {},
   "outputs": [],
   "source": [
    "# Filling missing values\n",
    "df_filled = df_with_nan.fillna(0)\n",
    "print(df_filled)\n",
    "\n",
    "# Dropping rows with missing values\n",
    "df_dropped = df_with_nan.dropna()\n",
    "print(df_dropped)"
   ]
  },
  {
   "cell_type": "markdown",
   "metadata": {},
   "source": [
    "## 5. Grouping and Aggregating Data\n",
    "\n",
    "You can group and aggregate data in the DataFrame to perform summary statistics."
   ]
  },
  {
   "cell_type": "code",
   "execution_count": null,
   "metadata": {},
   "outputs": [],
   "source": [
    "# Grouping and aggregating data\n",
    "data = {\n",
    "    'Date': pd.date_range(start='2023-01-01', periods=10, freq='D'),\n",
    "    'Stock': ['AAPL', 'GOOGL', 'MSFT', 'AAPL', 'GOOGL', 'MSFT', 'AAPL', 'GOOGL', 'MSFT', 'AAPL'],\n",
    "    'Price': [150.75, 2800.50, 299.00, 153.30, 2820.00, 305.00, 149.50, 2790.00, 300.00, 155.00]\n",
    "}\n",
    "df_group = pd.DataFrame(data)\n",
    "print(df_group)\n",
    "\n",
    "# Grouping by Stock and calculating mean price\n",
    "grouped_df = df_group.groupby('Stock').mean()\n",
    "print(grouped_df)"
   ]
  },
  {
   "cell_type": "markdown",
   "metadata": {},
   "source": [
    "## 6. Merging and Joining DataFrames\n",
    "\n",
    "You can merge and join DataFrames to combine data from multiple sources."
   ]
  },
  {
   "cell_type": "code",
   "execution_count": null,
   "metadata": {},
   "outputs": [],
   "source": [
    "# Creating two DataFrames\n",
    "data1 = {\n",
    "    'Date': pd.date_range(start='2023-01-01', periods=5, freq='D'),\n",
    "    'AAPL': [150.75, 153.30, 149.50, 155.00, 157.25]\n",
    "}\n",
    "data2 = {\n",
    "    'Date': pd.date_range(start='2023-01-01', periods=5, freq='D'),\n",
    "    'GOOGL': [2800.50, 2820.00, 2790.00, 2850.00, 2900.00]\n",
    "}\n",
    "df1 = pd.DataFrame(data1)\n",
    "df2 = pd.DataFrame(data2)\n",
    "print(df1)\n",
    "print(df2)\n",
    "\n",
    "# Merging DataFrames\n",
    "merged_df = pd.merge(df1, df2, on='Date')\n",
    "print(merged_df)"
   ]
  }
 ],
 "metadata": {
  "kernelspec": {
   "display_name": "Python 3",
   "language": "python",
   "name": "python3"
  },
  "language_info": {
   "codemirror_mode": {
    "name": "ipython",
    "version": 3
   },
   "file_extension": ".py",
   "mimetype": "text/x-python",
   "name": "python",
   "nbconvert_exporter": "python",
   "pygments_lexer": "ipython3",
   "version": "3.12.1"
  }
 },
 "nbformat": 4,
 "nbformat_minor": 4
}
