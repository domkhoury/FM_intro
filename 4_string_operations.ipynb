{
 "cells": [
  {
   "cell_type": "markdown",
   "metadata": {},
   "source": [
    "# Working with Strings in Python: Financial Markets Examples\n",
    "\n",
    "This notebook demonstrates various ways to work with strings in Python, including manipulating them, searching within them, and using them in control structures. We will use examples from financial markets to illustrate these concepts."
   ]
  },
  {
   "cell_type": "markdown",
   "metadata": {},
   "source": [
    "## 1. String Manipulation\n",
    "\n",
    "### Example: Concatenating Strings\n",
    "Let's concatenate the name of a company with its stock symbol."
   ]
  },
  {
   "cell_type": "code",
   "execution_count": null,
   "metadata": {},
   "outputs": [],
   "source": [
    "# Company name and stock symbol\n",
    "company_name = \"Apple Inc.\"\n",
    "stock_symbol = \"AAPL\"\n",
    "\n",
    "# Concatenate strings\n",
    "full_name = company_name + \" (\" + stock_symbol + \")\"\n",
    "print(full_name)"
   ]
  },
  {
   "cell_type": "markdown",
   "metadata": {},
   "source": [
    "### Example: Formatting Strings\n",
    "Let's format a string to include the current stock price."
   ]
  },
  {
   "cell_type": "code",
   "execution_count": null,
   "metadata": {},
   "outputs": [],
   "source": [
    "# Stock price\n",
    "stock_price = 150.75\n",
    "\n",
    "# Format string\n",
    "message = f\"The current stock price of {company_name} ({stock_symbol}) is ${stock_price:.2f}\"\n",
    "print(message)"
   ]
  },
  {
   "cell_type": "markdown",
   "metadata": {},
   "source": [
    "### Example: Splitting Strings\n",
    "Let's split a string containing a list of stock symbols."
   ]
  },
  {
   "cell_type": "code",
   "execution_count": null,
   "metadata": {},
   "outputs": [],
   "source": [
    "# String of stock symbols\n",
    "symbols = \"AAPL, GOOGL, MSFT, AMZN\"\n",
    "\n",
    "# Split string into a list\n",
    "symbol_list = symbols.split(\", \")\n",
    "print(symbol_list)"
   ]
  },
  {
   "cell_type": "markdown",
   "metadata": {},
   "source": [
    "## 2. Searching Within Strings\n",
    "\n",
    "### Example: Checking for Substrings\n",
    "Let's check if a stock symbol is in a list of symbols."
   ]
  },
  {
   "cell_type": "code",
   "execution_count": null,
   "metadata": {},
   "outputs": [],
   "source": [
    "# Check if a symbol is in the list\n",
    "search_symbol = \"GOOGL\"\n",
    "\n",
    "if search_symbol in symbols:\n",
    "    print(f\"{search_symbol} is in the list of symbols.\")\n",
    "else:\n",
    "    print(f\"{search_symbol} is not in the list of symbols.\")"
   ]
  },
  {
   "cell_type": "markdown",
   "metadata": {},
   "source": [
    "### Example: Finding Substring Position\n",
    "Let's find the position of a stock symbol in a string."
   ]
  },
  {
   "cell_type": "code",
   "execution_count": null,
   "metadata": {},
   "outputs": [],
   "source": [
    "# Find the position of a symbol in the string\n",
    "position = symbols.find(\"MSFT\")\n",
    "print(f\"The position of MSFT in the string is: {position}\")"
   ]
  },
  {
   "cell_type": "markdown",
   "metadata": {},
   "source": [
    "## 3. Using Strings in Control Structures\n",
    "\n",
    "### Example: Conditional Statements\n",
    "Let's use a string in an `if` statement to check the status of a stock."
   ]
  },
  {
   "cell_type": "code",
   "execution_count": null,
   "metadata": {},
   "outputs": [],
   "source": [
    "# Stock status\n",
    "status = \"up\"\n",
    "\n",
    "# Check the status of the stock\n",
    "if status == \"up\":\n",
    "    print(\"The stock price is going up.\")\n",
    "elif status == \"down\":\n",
    "    print(\"The stock price is going down.\")\n",
    "else:\n",
    "    print(\"The stock price is unchanged.\")"
   ]
  },
  {
   "cell_type": "markdown",
   "metadata": {},
   "source": [
    "### Example: Looping Through Strings\n",
    "Let's loop through a list of stock symbols and print each one."
   ]
  },
  {
   "cell_type": "code",
   "execution_count": null,
   "metadata": {},
   "outputs": [],
   "source": [
    "# Loop through the list of stock symbols\n",
    "for symbol in symbol_list:\n",
    "    print(symbol)"
   ]
  }
 ],
 "metadata": {
  "kernelspec": {
   "display_name": "Python 3",
   "language": "python",
   "name": "python3"
  },
  "language_info": {
   "codemirror_mode": {
    "name": "ipython",
    "version": 3
   },
   "file_extension": ".py",
   "mimetype": "text/x-python",
   "name": "python",
   "nbconvert_exporter": "python",
   "pygments_lexer": "ipython3",
   "version": "3.12.1"
  }
 },
 "nbformat": 4,
 "nbformat_minor": 4
}
