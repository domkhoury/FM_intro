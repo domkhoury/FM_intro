{
 "cells": [
  {
   "cell_type": "markdown",
   "metadata": {},
   "source": [
    "# Control Structures\n",
    "\n",
    "This notebook provides an overview of control structures in Python and demonstrates how they can be used in the context of financial markets. We will cover `if` statements, `for` loops, and `while` loops, using a variety of different data types."
   ]
  },
  {
   "cell_type": "markdown",
   "metadata": {},
   "source": [
    "## 1. If Statements\n",
    "\n",
    "`If` statements allow you to execute a block of code only if a certain condition is met.\n",
    "\n",
    "### Example: Checking Stock Price\n",
    "Let's check if the stock price of a company is above a certain threshold."
   ]
  },
  {
   "cell_type": "code",
   "execution_count": null,
   "metadata": {},
   "outputs": [],
   "source": [
    "# Stock price\n",
    "stock_price = 150.75\n",
    "\n",
    "# Threshold price\n",
    "threshold = 100.00\n",
    "\n",
    "# Check if stock price is above threshold\n",
    "if stock_price > threshold:\n",
    "    print(\"The stock price is above the threshold.\")\n",
    "else:\n",
    "    print(\"The stock price is below the threshold.\")"
   ]
  },
  {
   "cell_type": "markdown",
   "metadata": {},
   "source": [
    "## 2. For Loops\n",
    "\n",
    "`For` loops allow you to iterate over a sequence (such as a list, tuple, or dictionary) and execute a block of code for each item in the sequence.\n",
    "\n",
    "### Example: Iterating Over Stock Prices\n",
    "Let's iterate over a list of historical stock prices and print each price."
   ]
  },
  {
   "cell_type": "code",
   "execution_count": null,
   "metadata": {},
   "outputs": [],
   "source": [
    "# List of historical stock prices\n",
    "historical_prices = [150.75, 153.30, 149.50, 155.00, 157.25]\n",
    "\n",
    "# Iterate over the list and print each price\n",
    "for price in historical_prices:\n",
    "    print(\"Stock price:\", price)"
   ]
  },
  {
   "cell_type": "markdown",
   "metadata": {},
   "source": [
    "### Example: Iterating Over a Dictionary\n",
    "Let's iterate over a dictionary of stock prices and print the stock symbol and its corresponding price."
   ]
  },
  {
   "cell_type": "code",
   "execution_count": null,
   "metadata": {},
   "outputs": [],
   "source": [
    "# Dictionary of stock prices\n",
    "stock_prices = {\n",
    "    \"AAPL\": 150.75,\n",
    "    \"GOOGL\": 2800.50,\n",
    "    \"MSFT\": 299.00\n",
    "}\n",
    "\n",
    "# Iterate over the dictionary and print each stock symbol and price\n",
    "for symbol, price in stock_prices.items():\n",
    "    print(f\"Stock symbol: {symbol}, Price: {price}\")"
   ]
  },
  {
   "cell_type": "markdown",
   "metadata": {},
   "source": [
    "## 3. While Loops\n",
    "\n",
    "`While` loops allow you to execute a block of code repeatedly as long as a certain condition is met.\n",
    "\n",
    "### Example: Calculating Compound Interest\n",
    "Let's use a `while` loop to calculate the future value of an investment with compound interest."
   ]
  },
  {
   "cell_type": "code",
   "execution_count": null,
   "metadata": {},
   "outputs": [],
   "source": [
    "# Initial investment\n",
    "principal = 1000.00\n",
    "\n",
    "# Annual interest rate\n",
    "rate = 0.05\n",
    "\n",
    "# Number of years\n",
    "years = 10\n",
    "\n",
    "# Future value calculation using a while loop\n",
    "current_year = 0\n",
    "future_value = principal\n",
    "\n",
    "while current_year < years:\n",
    "    future_value *= (1 + rate)\n",
    "    current_year += 1\n",
    "\n",
    "print(f\"Future value of the investment after {years} years: {future_value:.2f}\")"
   ]
  },
  {
   "cell_type": "markdown",
   "metadata": {},
   "source": [
    "## 4. Nested Control Structures\n",
    "\n",
    "You can also nest control structures within each other to perform more complex operations.\n",
    "\n",
    "### Example: Filtering and Summing Stock Prices\n",
    "Let's filter a list of stock prices to include only those above a certain threshold, and then sum the filtered prices."
   ]
  },
  {
   "cell_type": "code",
   "execution_count": null,
   "metadata": {},
   "outputs": [],
   "source": [
    "# List of historical stock prices\n",
    "historical_prices = [150.75, 153.30, 149.50, 155.00, 157.25]\n",
    "\n",
    "# Threshold price\n",
    "threshold = 150.00\n",
    "\n",
    "# Filter and sum the stock prices\n",
    "filtered_sum = 0\n",
    "\n",
    "for price in historical_prices:\n",
    "    if price > threshold:\n",
    "        filtered_sum += price\n",
    "\n",
    "print(f\"Sum of stock prices above {threshold}: {filtered_sum:.2f}\")"
   ]
  }
 ],
 "metadata": {
  "kernelspec": {
   "display_name": "Python 3",
   "language": "python",
   "name": "python3"
  },
  "language_info": {
   "codemirror_mode": {
    "name": "ipython",
    "version": 3
   },
   "file_extension": ".py",
   "mimetype": "text/x-python",
   "name": "python",
   "nbconvert_exporter": "python",
   "pygments_lexer": "ipython3",
   "version": "3.12.1"
  }
 },
 "nbformat": 4,
 "nbformat_minor": 4
}
