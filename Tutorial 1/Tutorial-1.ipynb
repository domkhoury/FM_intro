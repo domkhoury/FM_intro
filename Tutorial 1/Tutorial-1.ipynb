{
 "cells": [
  {
   "cell_type": "markdown",
   "metadata": {},
   "source": [
    "# **Financial Modelling**\n",
    "---\n",
    "# **Tutorial 1**\n",
    "\n",
    "This Jupyter Notebook is designed for beginners who have never coded before. By the end of this tutorial, you will have a solid understanding of basic Python concepts and how to work with very basic financial data."
   ]
  },
  {
   "cell_type": "code",
   "execution_count": 2,
   "metadata": {},
   "outputs": [],
   "source": [
    "## Importing necessary packages\n",
    "import pandas as pd\n",
    "import numpy as np\n",
    "import matplotlib.pyplot as plt"
   ]
  },
  {
   "cell_type": "markdown",
   "metadata": {},
   "source": [
    "## Task 1.1: Create a dictionary for a variable called ```share_prices``` containing their ASX ticker and closing prices using the following information:\n",
    "\n",
    "In Python, a **dictionary** is a way to store data using **key-value pairs**."
   ]
  },
  {
   "cell_type": "markdown",
   "metadata": {},
   "source": [
    "| ASX Code | Closing Price (AUD) |\n",
    "|----------|---------------------|\n",
    "| BHP      | 50.25               |\n",
    "| CBA      | 105.30              |\n",
    "| NAB      | 30.20               |\n",
    "| WBC      | 29.45               |\n",
    "| TLS      | 4.10                |\n",
    "| WOW      | 34.85               |\n",
    "| CSL      | 295.50              |\n",
    "| RIO      | 122.10              |\n",
    "| FMG      | 22.75               |\n",
    "| ANZ      | 28.60               |\n"
   ]
  },
  {
   "cell_type": "code",
   "execution_count": 3,
   "metadata": {},
   "outputs": [
    {
     "name": "stdout",
     "output_type": "stream",
     "text": [
      "{'BHP': 50.25, 'CBA': 105.3, 'NAB': 30.2, 'WBC': 29.45, 'TLS': 4.1, 'WOW': 34.85, 'CSL': 295.5, 'RIO': 122.1, 'FMG': 22.75, 'ANZ': 28.6}\n"
     ]
    }
   ],
   "source": [
    "# Task 1: Create a dictionary for share prices\n",
    "\n",
    "share_prices = {\n",
    "    'BHP': 50.25,\n",
    "    'CBA': 105.30,\n",
    "    'NAB': 30.20,\n",
    "    'WBC': 29.45,\n",
    "    'TLS': 4.10,\n",
    "    'WOW': 34.85, \n",
    "    'CSL': 295.50,\n",
    "    'RIO': 122.10,\n",
    "    'FMG': 22.75,\n",
    "    'ANZ': 28.60\n",
    "\n",
    "}\n",
    "print(share_prices)"
   ]
  },
  {
   "cell_type": "markdown",
   "metadata": {},
   "source": [
    "## Task 1.2: Add the ticker MQG to the ```share_prices``` dictionary:\n",
    "\n",
    "We can add a new stock to the dictionary by simply assigning a new key-value pair.\n",
    "\n",
    "| ASX Code | Closing Price (AUD) |\n",
    "|----------|---------------------|\n",
    "| MQG      | 180.20              |"
   ]
  },
  {
   "cell_type": "code",
   "execution_count": 4,
   "metadata": {},
   "outputs": [
    {
     "name": "stdout",
     "output_type": "stream",
     "text": [
      "{'BHP': 50.25, 'CBA': 105.3, 'NAB': 30.2, 'WBC': 29.45, 'TLS': 4.1, 'WOW': 34.85, 'CSL': 295.5, 'RIO': 122.1, 'FMG': 22.75, 'ANZ': 28.6, 'MGQ': 180.2}\n"
     ]
    }
   ],
   "source": [
    "# Task 1.2: Add a new stock\n",
    "share_prices['MGQ'] = 180.20\n",
    "print(share_prices)"
   ]
  },
  {
   "cell_type": "markdown",
   "metadata": {},
   "source": [
    "## Task 1.3: Modify the price of BHP to $51.00:\n",
    "We can update the price of a stock using its key."
   ]
  },
  {
   "cell_type": "code",
   "execution_count": 5,
   "metadata": {},
   "outputs": [
    {
     "name": "stdout",
     "output_type": "stream",
     "text": [
      "{'BHP': 51.0, 'CBA': 105.3, 'NAB': 30.2, 'WBC': 29.45, 'TLS': 4.1, 'WOW': 34.85, 'CSL': 295.5, 'RIO': 122.1, 'FMG': 22.75, 'ANZ': 28.6, 'MGQ': 180.2}\n"
     ]
    }
   ],
   "source": [
    "# Task 1.3: Modify the price of BHP to 51.00\n",
    "share_prices['BHP'] = 51.00\n",
    "print(share_prices)\n",
    "\n"
   ]
  },
  {
   "cell_type": "markdown",
   "metadata": {},
   "source": [
    "## Task 1.4: Remove the stock FMG from the dictionary:\n",
    "To remove an entry, we use the `pop()` function."
   ]
  },
  {
   "cell_type": "code",
   "execution_count": 6,
   "metadata": {},
   "outputs": [
    {
     "name": "stdout",
     "output_type": "stream",
     "text": [
      "{'BHP': 51.0, 'CBA': 105.3, 'NAB': 30.2, 'WBC': 29.45, 'TLS': 4.1, 'WOW': 34.85, 'CSL': 295.5, 'RIO': 122.1, 'ANZ': 28.6, 'MGQ': 180.2}\n"
     ]
    }
   ],
   "source": [
    "# Task 1.4: Remove FMG from dictionary\n",
    "share_prices.pop('FMG')\n",
    "print(share_prices)"
   ]
  },
  {
   "cell_type": "markdown",
   "metadata": {},
   "source": [
    "## Task 1.5: Print all shares and their associated prices:\n",
    "We can loop through the dictionary and print each stock’s price."
   ]
  },
  {
   "cell_type": "code",
   "execution_count": 7,
   "metadata": {},
   "outputs": [
    {
     "name": "stdout",
     "output_type": "stream",
     "text": [
      "BHP 51.0\n",
      "CBA 105.3\n",
      "NAB 30.2\n",
      "WBC 29.45\n",
      "TLS 4.1\n",
      "WOW 34.85\n",
      "CSL 295.5\n",
      "RIO 122.1\n",
      "ANZ 28.6\n",
      "MGQ 180.2\n"
     ]
    }
   ],
   "source": [
    "# Task 1.5: Print all prices\n",
    "\n",
    "for key, value in share_prices.items():\n",
    "    print(key, value)\n",
    "    "
   ]
  },
  {
   "cell_type": "markdown",
   "metadata": {},
   "source": [
    "## Task 1.6: Print the shares if their price is greater than or equal to (```>=```) 100:\n",
    "We can use a **for-loop** to loop through the dictionary and print each stock’s price **if** it is greater than 100."
   ]
  },
  {
   "cell_type": "code",
   "execution_count": 8,
   "metadata": {},
   "outputs": [
    {
     "name": "stdout",
     "output_type": "stream",
     "text": [
      "CBA 105.3\n",
      "CSL 295.5\n",
      "RIO 122.1\n",
      "MGQ 180.2\n"
     ]
    }
   ],
   "source": [
    "# Task 1.6: Print all shares with prices >= 100\n",
    "\n",
    "for key, value in share_prices.items():\n",
    "    if value >= 100:\n",
    "        print(key, value)\n",
    "        "
   ]
  },
  {
   "cell_type": "markdown",
   "metadata": {},
   "source": [
    "## Task 1.7: Finding the highest priced stock:\n",
    "**[Hint: you know how to assign variables and also use for loops]**\n",
    "\n",
    "A beginner-friendly way to find the highest and lowest prices is by using a loop."
   ]
  },
  {
   "cell_type": "code",
   "execution_count": 9,
   "metadata": {},
   "outputs": [
    {
     "name": "stdout",
     "output_type": "stream",
     "text": [
      "The highest priced stock is CSL at $295.5\n",
      "The lowest priced stock is TLS at $4.1\n"
     ]
    }
   ],
   "source": [
    "# Task 1.7: Finding the highest and lowest priced stocks\n",
    "\n",
    "max_price = max(share_prices, key=share_prices.get)\n",
    "min_price = min(share_prices, key=share_prices.get)\n",
    "print(f'The highest priced stock is {max_price} at ${share_prices[max_price]}')\n",
    "print(f'The lowest priced stock is {min_price} at ${share_prices[min_price]}')"
   ]
  },
  {
   "cell_type": "markdown",
   "metadata": {},
   "source": [
    "## Task 2.1: Turn the dictionary into a Pandas DataFrame"
   ]
  },
  {
   "cell_type": "markdown",
   "metadata": {},
   "source": [
    "Now that you are familiar with dictionaries, we can start to learn about Pandas and its well-know datatype called a DataFrame"
   ]
  },
  {
   "cell_type": "code",
   "execution_count": 10,
   "metadata": {},
   "outputs": [
    {
     "name": "stdout",
     "output_type": "stream",
     "text": [
      "  Stock   Price\n",
      "0   BHP   51.00\n",
      "1   CBA  105.30\n",
      "2   NAB   30.20\n",
      "3   WBC   29.45\n",
      "4   TLS    4.10\n",
      "5   WOW   34.85\n",
      "6   CSL  295.50\n",
      "7   RIO  122.10\n",
      "8   ANZ   28.60\n",
      "9   MGQ  180.20\n"
     ]
    }
   ],
   "source": [
    "# Task 2.1: Converting dictionary to Pandas DataFrame\n",
    "\n",
    "df = pd.DataFrame(list(share_prices.items()), columns=['Stock', 'Price'])\n",
    "print(df)"
   ]
  },
  {
   "cell_type": "markdown",
   "metadata": {},
   "source": [
    "## Task 2.2: Show the first 5 rows of the DataFrame\n",
    "Use the ```.head()``` function as it easier to visualise larger dataframes than using ```print()```"
   ]
  },
  {
   "cell_type": "code",
   "execution_count": 11,
   "metadata": {},
   "outputs": [
    {
     "name": "stdout",
     "output_type": "stream",
     "text": [
      "  Stock   Price\n",
      "0   BHP   51.00\n",
      "1   CBA  105.30\n",
      "2   NAB   30.20\n",
      "3   WBC   29.45\n",
      "4   TLS    4.10\n"
     ]
    }
   ],
   "source": [
    "# Task 2.2: Show 5 rows\n",
    "\n",
    "print(df.head())\n"
   ]
  },
  {
   "cell_type": "markdown",
   "metadata": {},
   "source": [
    "## Task 2.3: Add a new stock to the DataFrame"
   ]
  },
  {
   "cell_type": "markdown",
   "metadata": {},
   "source": [
    "Add back the previously removed FMG stock\n",
    "| ASX Code | Closing Price (AUD) |\n",
    "|----------|---------------------|\n",
    "| FMG      | 22.75               |\n"
   ]
  },
  {
   "cell_type": "code",
   "execution_count": 12,
   "metadata": {},
   "outputs": [
    {
     "name": "stdout",
     "output_type": "stream",
     "text": [
      "   Stock   Price\n",
      "0    BHP   51.00\n",
      "1    CBA  105.30\n",
      "2    NAB   30.20\n",
      "3    WBC   29.45\n",
      "4    TLS    4.10\n",
      "5    WOW   34.85\n",
      "6    CSL  295.50\n",
      "7    RIO  122.10\n",
      "8    ANZ   28.60\n",
      "9    MGQ  180.20\n",
      "10   FMG   22.75\n"
     ]
    }
   ],
   "source": [
    "# Task 2.3: Add a new stock to the DataFrame\n",
    "\n",
    "row = {\n",
    "    'Stock': ['FMG'],\n",
    "    'Price': [22.75]\n",
    "}\n",
    "\n",
    "df = pd.concat([df, pd.DataFrame(row)], ignore_index=True)\n",
    "\n",
    "print(df)\n"
   ]
  },
  {
   "cell_type": "markdown",
   "metadata": {},
   "source": [
    "## Task 2.4: Change the price of BHP to 55"
   ]
  },
  {
   "cell_type": "code",
   "execution_count": 13,
   "metadata": {},
   "outputs": [
    {
     "name": "stdout",
     "output_type": "stream",
     "text": [
      "   Stock   Price\n",
      "0    BHP   55.00\n",
      "1    CBA  105.30\n",
      "2    NAB   30.20\n",
      "3    WBC   29.45\n",
      "4    TLS    4.10\n",
      "5    WOW   34.85\n",
      "6    CSL  295.50\n",
      "7    RIO  122.10\n",
      "8    ANZ   28.60\n",
      "9    MGQ  180.20\n",
      "10   FMG   22.75\n"
     ]
    }
   ],
   "source": [
    "# Task 2.4: Updating the price of BHP\n",
    "\n",
    "\n",
    "df.loc[df['Stock'] == 'BHP', 'Price'] = 55.00\n",
    "print(df)"
   ]
  },
  {
   "cell_type": "markdown",
   "metadata": {},
   "source": [
    "## Task 2.5: Remove FMG from the DataFrame"
   ]
  },
  {
   "cell_type": "code",
   "execution_count": 14,
   "metadata": {},
   "outputs": [
    {
     "name": "stdout",
     "output_type": "stream",
     "text": [
      "  Stock   Price\n",
      "0   BHP   55.00\n",
      "1   CBA  105.30\n",
      "2   NAB   30.20\n",
      "3   WBC   29.45\n",
      "4   TLS    4.10\n",
      "5   WOW   34.85\n",
      "6   CSL  295.50\n",
      "7   RIO  122.10\n",
      "8   ANZ   28.60\n",
      "9   MGQ  180.20\n"
     ]
    }
   ],
   "source": [
    "# Task 2.5: \n",
    "# Removing FMG from the DataFrame   \n",
    "\n",
    "df = df.drop(df[df['Stock'] == 'FMG'].index)\n",
    "print(df)\n",
    "\n"
   ]
  },
  {
   "cell_type": "markdown",
   "metadata": {},
   "source": [
    "## Task 2.6: Print all stock prices in the DataFrame"
   ]
  },
  {
   "cell_type": "code",
   "execution_count": 23,
   "metadata": {},
   "outputs": [
    {
     "name": "stdout",
     "output_type": "stream",
     "text": [
      "0     55.00\n",
      "1    105.30\n",
      "2     30.20\n",
      "3     29.45\n",
      "4      4.10\n",
      "5     34.85\n",
      "6    295.50\n",
      "7    122.10\n",
      "8     28.60\n",
      "9    180.20\n",
      "Name: Price, dtype: float64\n"
     ]
    }
   ],
   "source": [
    "# Task 2.6: Printing all stock prices in dataframe\n",
    "\n",
    "print(df['Price'])"
   ]
  },
  {
   "cell_type": "markdown",
   "metadata": {},
   "source": [
    "## Task 2.7: Finding the Highest and Lowest Priced Stocks in DataFrame"
   ]
  },
  {
   "cell_type": "code",
   "execution_count": 15,
   "metadata": {},
   "outputs": [
    {
     "name": "stdout",
     "output_type": "stream",
     "text": [
      "The highest priced stock is CSL at $295.5\n",
      "The lowest priced stock is TLS at $4.1\n"
     ]
    }
   ],
   "source": [
    "# Task 2.7: Finding highest and lowest priced stocks using .idxmax() and .idxmin() method\n",
    "\n",
    "max_price = df['Price'].idxmax()\n",
    "min_price = df['Price'].idxmin()\n",
    "print(f'The highest priced stock is {df.loc[max_price, \"Stock\"]} at ${df.loc[max_price, \"Price\"]}')\n",
    "print(f'The lowest priced stock is {df.loc[min_price, \"Stock\"]} at ${df.loc[min_price, \"Price\"]}')"
   ]
  },
  {
   "cell_type": "markdown",
   "metadata": {},
   "source": [
    "## Task 2.8: Make a new column that is all of the share prices converted to USD (assume 1 AUD = 0.65 USD)"
   ]
  },
  {
   "cell_type": "code",
   "execution_count": 16,
   "metadata": {},
   "outputs": [
    {
     "name": "stdout",
     "output_type": "stream",
     "text": [
      "  Stock     Price\n",
      "0   BHP   35.7500\n",
      "1   CBA   68.4450\n",
      "2   NAB   19.6300\n",
      "3   WBC   19.1425\n",
      "4   TLS    2.6650\n",
      "5   WOW   22.6525\n",
      "6   CSL  192.0750\n",
      "7   RIO   79.3650\n",
      "8   ANZ   18.5900\n",
      "9   MGQ  117.1300\n"
     ]
    }
   ],
   "source": [
    "# Task 2.8: Convert the AUD share price to an equivalent USD price (1aud = 0.65usd)\n",
    "\n",
    "df['Price'] = df['Price'] * 0.65\n",
    "print(df)\n",
    "\n"
   ]
  },
  {
   "cell_type": "markdown",
   "metadata": {},
   "source": [
    "## Task 2.9: To avoid confusion, rename the \"Closing Price\" column with \"Closing Price (AUD)\""
   ]
  },
  {
   "cell_type": "code",
   "execution_count": 17,
   "metadata": {},
   "outputs": [
    {
     "name": "stdout",
     "output_type": "stream",
     "text": [
      "  Stock  Closing Price (USD)\n",
      "0   BHP              35.7500\n",
      "1   CBA              68.4450\n",
      "2   NAB              19.6300\n",
      "3   WBC              19.1425\n",
      "4   TLS               2.6650\n",
      "5   WOW              22.6525\n",
      "6   CSL             192.0750\n",
      "7   RIO              79.3650\n",
      "8   ANZ              18.5900\n",
      "9   MGQ             117.1300\n"
     ]
    }
   ],
   "source": [
    "# Task 2.9: rename \"Closing Price\" with \"Closing Price (AUD)\"\n",
    "\n",
    "df.rename(columns={'Price': 'Closing Price (USD)'}, inplace=True)\n",
    "print(df)"
   ]
  },
  {
   "cell_type": "markdown",
   "metadata": {},
   "source": [
    "## Task 3.0: Create a new python file called **annuity_formula.py** which has a function that returns the present value of an annuity with arguments:\n",
    "- ```interest_rate```\n",
    "- ```number_of_periods```\n",
    "- ```payment_amount```\n",
    "\n",
    "## Then, import this created file below and call the function for different values of the arguments"
   ]
  },
  {
   "cell_type": "code",
   "execution_count": 24,
   "metadata": {},
   "outputs": [
    {
     "name": "stdout",
     "output_type": "stream",
     "text": [
      "4329.476670630823\n"
     ]
    }
   ],
   "source": [
    "# Task 3.0: Import the annuity_formula.py functionality and use the function here\n",
    "\n",
    "import annuity_formula as af\n",
    "\n",
    "# Task 3.1: Calculate the present value of an annuity with a payment of 1000, interest rate of 0.05 and 5 years\n",
    "pv = af.present_value_annuity(0.05, 5, 1000)\n",
    "print(pv)"
   ]
  },
  {
   "cell_type": "markdown",
   "metadata": {},
   "source": [
    "## Task 4.0: Make a .csv file using the following information:\n",
    "| ASX Code | Closing Price (AUD) |\n",
    "|----------|---------------------|\n",
    "| BHP      | 50.25               |\n",
    "| CBA      | 105.30              |\n",
    "| NAB      | 30.20               |\n",
    "| WBC      | 29.45               |\n",
    "| TLS      | 4.10                |\n",
    "| WOW      | 34.85               |\n",
    "| CSL      | 295.50              |\n",
    "| RIO      | 122.10              |\n",
    "| FMG      | 22.75               |\n",
    "| ANZ      | 28.60               |\n",
    "\n",
    "## Then, create a code block that imports the .csv file and then save the data as a DataFrame"
   ]
  },
  {
   "cell_type": "code",
   "execution_count": 25,
   "metadata": {},
   "outputs": [
    {
     "name": "stdout",
     "output_type": "stream",
     "text": [
      "  Stock  Closing Price (USD)\n",
      "0   BHP              35.7500\n",
      "1   CBA              68.4450\n",
      "2   NAB              19.6300\n",
      "3   WBC              19.1425\n",
      "4   TLS               2.6650\n",
      "5   WOW              22.6525\n",
      "6   CSL             192.0750\n",
      "7   RIO              79.3650\n",
      "8   ANZ              18.5900\n",
      "9   MGQ             117.1300\n"
     ]
    }
   ],
   "source": [
    "# Task 4.0: Make a .csv and import the information\n",
    "\n",
    "df.to_csv('stock_prices.csv', index=False)\n",
    "df = pd.read_csv('stock_prices.csv')\n",
    "print(df)"
   ]
  },
  {
   "cell_type": "markdown",
   "metadata": {},
   "source": [
    "## Task 5.0: [Extension] Let's put it all together!\n",
    "\n",
    "### Using what you have learnt, do the following\n",
    "1. Import yfinance package as yf (use google to help)\n",
    "2. Get the year-to-date (date starting 1/01/2025) AAPL share price data from yfinance\n",
    "3. Filter this dataframe down to the two columns we want: Date and Close\n",
    "4. Plot the price movement using the matplotlib library"
   ]
  },
  {
   "cell_type": "code",
   "execution_count": null,
   "metadata": {},
   "outputs": [],
   "source": [
    "# Task 5.0: Use yfinance and plot the price movement of the stock\n"
   ]
  }
 ],
 "metadata": {
  "kernelspec": {
   "display_name": "Python 3",
   "language": "python",
   "name": "python3"
  },
  "language_info": {
   "codemirror_mode": {
    "name": "ipython",
    "version": 3
   },
   "file_extension": ".py",
   "mimetype": "text/x-python",
   "name": "python",
   "nbconvert_exporter": "python",
   "pygments_lexer": "ipython3",
   "version": "3.13.1"
  }
 },
 "nbformat": 4,
 "nbformat_minor": 2
}
