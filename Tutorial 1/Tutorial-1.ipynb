{
 "cells": [
  {
   "cell_type": "markdown",
   "metadata": {},
   "source": [
    "# **FINM3422**\n",
    "---\n",
    "# **Tutorial 1**\n",
    "\n",
    "This Jupyter Notebook is designed for beginners who have never coded before. By the end of this tutorial, you will have a solid understanding of basic Python concepts and how to work with very basic financial data."
   ]
  },
  {
   "cell_type": "code",
   "execution_count": 1,
   "metadata": {},
   "outputs": [],
   "source": [
    "## Importing necessary packages\n",
    "import pandas as pd\n",
    "import numpy as np\n",
    "import matplotlib.pyplot as plt"
   ]
  },
  {
   "cell_type": "markdown",
   "metadata": {},
   "source": [
    "## Task 1.1: Create a dictionary for a variable called ```share_prices``` containing their ASX ticker and closing prices using the following information:\n",
    "\n",
    "In Python, a **dictionary** is a way to store data using **key-value pairs**."
   ]
  },
  {
   "cell_type": "markdown",
   "metadata": {},
   "source": [
    "| ASX Code | Closing Price (AUD) |\n",
    "|----------|---------------------|\n",
    "| BHP      | 50.25               |\n",
    "| CBA      | 105.30              |\n",
    "| NAB      | 30.20               |\n",
    "| WBC      | 29.45               |\n",
    "| TLS      | 4.10                |\n",
    "| WOW      | 34.85               |\n",
    "| CSL      | 295.50              |\n",
    "| RIO      | 122.10              |\n",
    "| FMG      | 22.75               |\n",
    "| ANZ      | 28.60               |\n"
   ]
  },
  {
   "cell_type": "code",
   "execution_count": 2,
   "metadata": {},
   "outputs": [],
   "source": [
    "# Task 1: Create a dictionary for share prices"
   ]
  },
  {
   "cell_type": "markdown",
   "metadata": {},
   "source": [
    "## Task 1.2: Add the ticker MQG to the ```share_prices``` dictionary:\n",
    "\n",
    "We can add a new stock to the dictionary by simply assigning a new key-value pair.\n",
    "\n",
    "| ASX Code | Closing Price (AUD) |\n",
    "|----------|---------------------|\n",
    "| MQG      | 180.20              |"
   ]
  },
  {
   "cell_type": "code",
   "execution_count": 3,
   "metadata": {},
   "outputs": [],
   "source": [
    "# Task 1.2: Add a new stock"
   ]
  },
  {
   "cell_type": "markdown",
   "metadata": {},
   "source": [
    "## Task 1.3: Modify the price of BHP to $51.00:\n",
    "We can update the price of a stock using its key."
   ]
  },
  {
   "cell_type": "code",
   "execution_count": 4,
   "metadata": {},
   "outputs": [],
   "source": [
    "# Task 1.3: Modify the price of a stock"
   ]
  },
  {
   "cell_type": "markdown",
   "metadata": {},
   "source": [
    "## Task 1.4: Remove the stock FMG from the dictionary:\n",
    "To remove an entry, we use the `pop()` function."
   ]
  },
  {
   "cell_type": "code",
   "execution_count": 5,
   "metadata": {},
   "outputs": [],
   "source": [
    "# Task 1.4: Remove a stock"
   ]
  },
  {
   "cell_type": "markdown",
   "metadata": {},
   "source": [
    "## Task 1.5: Print all shares and their associated prices:\n",
    "We can loop through the dictionary and print each stock’s price."
   ]
  },
  {
   "cell_type": "code",
   "execution_count": 6,
   "metadata": {},
   "outputs": [],
   "source": [
    "# Task 1.5: Print all prices"
   ]
  },
  {
   "cell_type": "markdown",
   "metadata": {},
   "source": [
    "## Task 1.6: Print the shares if their price is greater than or equal to (```>=```) 100:\n",
    "We can use a **for-loop** to loop through the dictionary and print each stock’s price **if** it is greater than 100."
   ]
  },
  {
   "cell_type": "code",
   "execution_count": 7,
   "metadata": {},
   "outputs": [],
   "source": [
    "# Task 1.6: Print all shares with prices >= 100"
   ]
  },
  {
   "cell_type": "markdown",
   "metadata": {},
   "source": [
    "## Task 1.7: Finding the highest priced stock:\n",
    "**[Hint: you know how to assign variables and also use for loops]**\n",
    "\n",
    "A beginner-friendly way to find the highest and lowest prices is by using a loop."
   ]
  },
  {
   "cell_type": "code",
   "execution_count": 8,
   "metadata": {},
   "outputs": [],
   "source": [
    "# Task 1.7: Finding the highest and lowest priced stocks"
   ]
  },
  {
   "cell_type": "markdown",
   "metadata": {},
   "source": [
    "## Task 2.1: Turn the dictionary into a Pandas DataFrame"
   ]
  },
  {
   "cell_type": "markdown",
   "metadata": {},
   "source": [
    "Now that you are familiar with dictionaries, we can start to learn about Pandas and its well-know datatype called a DataFrame"
   ]
  },
  {
   "cell_type": "code",
   "execution_count": 9,
   "metadata": {},
   "outputs": [],
   "source": [
    "# Task 2.1: Converting dictionary to Pandas DataFrame"
   ]
  },
  {
   "cell_type": "markdown",
   "metadata": {},
   "source": [
    "## Task 2.2: Show the first 5 rows of the DataFrame\n",
    "Use the ```.head()``` function as it easier to visualise larger dataframes than using ```print()```"
   ]
  },
  {
   "cell_type": "code",
   "execution_count": 10,
   "metadata": {},
   "outputs": [],
   "source": [
    "# Task 2.2: Show 5 rows"
   ]
  },
  {
   "cell_type": "markdown",
   "metadata": {},
   "source": [
    "## Task 2.3: Add a new stock to the DataFrame"
   ]
  },
  {
   "cell_type": "markdown",
   "metadata": {},
   "source": [
    "Add back the previously removed FMG stock\n",
    "| ASX Code | Closing Price (AUD) |\n",
    "|----------|---------------------|\n",
    "| FMG      | 22.75               |\n"
   ]
  },
  {
   "cell_type": "code",
   "execution_count": 11,
   "metadata": {},
   "outputs": [],
   "source": [
    "# Task 2.3: Add a new stock to the DataFrame"
   ]
  },
  {
   "cell_type": "markdown",
   "metadata": {},
   "source": [
    "## Task 2.4: Change the price of BHP to 55"
   ]
  },
  {
   "cell_type": "code",
   "execution_count": 12,
   "metadata": {},
   "outputs": [],
   "source": [
    "# Task 2.4: Updating the price of BHP"
   ]
  },
  {
   "cell_type": "markdown",
   "metadata": {},
   "source": [
    "## Task 2.5: Remove FMG from the DataFrame"
   ]
  },
  {
   "cell_type": "code",
   "execution_count": 13,
   "metadata": {},
   "outputs": [],
   "source": [
    "# Task 2.5: "
   ]
  },
  {
   "cell_type": "markdown",
   "metadata": {},
   "source": [
    "## Task 2.6: Print all stock prices in the DataFrame"
   ]
  },
  {
   "cell_type": "code",
   "execution_count": 14,
   "metadata": {},
   "outputs": [],
   "source": [
    "# Task 2.6: Printing all stock prices"
   ]
  },
  {
   "cell_type": "markdown",
   "metadata": {},
   "source": [
    "## Task 2.7: Finding the Highest and Lowest Priced Stocks in DataFrame"
   ]
  },
  {
   "cell_type": "code",
   "execution_count": 15,
   "metadata": {},
   "outputs": [],
   "source": [
    "# Task 2.7: Finding highest and lowest priced stocks using .idxmax() and .idxmin() method"
   ]
  },
  {
   "cell_type": "markdown",
   "metadata": {},
   "source": [
    "## Task 2.8: Make a new column that is all of the share prices converted to USD (assume 1 AUD = 0.65 USD)"
   ]
  },
  {
   "cell_type": "code",
   "execution_count": 16,
   "metadata": {},
   "outputs": [],
   "source": [
    "# Task 2.8: Convert the AUD share price to an equivalent USD price."
   ]
  },
  {
   "cell_type": "markdown",
   "metadata": {},
   "source": [
    "## Task 2.9: To avoid confusion, rename the \"Closing Price\" column with \"Closing Price (AUD)\""
   ]
  },
  {
   "cell_type": "code",
   "execution_count": 17,
   "metadata": {},
   "outputs": [],
   "source": [
    "# Task 2.9: rename \"Closing Price\" with \"Closing Price (AUD)\""
   ]
  },
  {
   "cell_type": "markdown",
   "metadata": {},
   "source": [
    "## Task 3.0: Create a new python file called **annuity_formula.py** which has a function that returns the present value of an annuity with arguments:\n",
    "- ```interest_rate```\n",
    "- ```number_of_periods```\n",
    "- ```payment_amount```\n",
    "\n",
    "## Then, import this created file below and call the function for different values of the arguments"
   ]
  },
  {
   "cell_type": "code",
   "execution_count": null,
   "metadata": {},
   "outputs": [],
   "source": [
    "# Task 3.0: Import the annuity_formula.py functionality and use the function here"
   ]
  },
  {
   "cell_type": "markdown",
   "metadata": {},
   "source": [
    "## Task 4.0: Make a .csv file using the following information:\n",
    "| ASX Code | Closing Price (AUD) |\n",
    "|----------|---------------------|\n",
    "| BHP      | 50.25               |\n",
    "| CBA      | 105.30              |\n",
    "| NAB      | 30.20               |\n",
    "| WBC      | 29.45               |\n",
    "| TLS      | 4.10                |\n",
    "| WOW      | 34.85               |\n",
    "| CSL      | 295.50              |\n",
    "| RIO      | 122.10              |\n",
    "| FMG      | 22.75               |\n",
    "| ANZ      | 28.60               |\n",
    "\n",
    "## Then, create a code block that imports the .csv file and then save the data as a DataFrame"
   ]
  },
  {
   "cell_type": "code",
   "execution_count": null,
   "metadata": {},
   "outputs": [],
   "source": [
    "# Task 4.0: Make a .csv and import the information"
   ]
  },
  {
   "cell_type": "markdown",
   "metadata": {},
   "source": [
    "## Task 5.0: [Extension] Let's put it all together!\n",
    "\n",
    "### Using what you have learnt, do the following\n",
    "1. Import yfinance package as yf (use google to help)\n",
    "2. Get the year-to-date (date starting 1/01/2025) AAPL share price data from yfinance\n",
    "3. Filter this dataframe down to the two columns we want: Date and Close\n",
    "4. Plot the price movement using the matplotlib library"
   ]
  },
  {
   "cell_type": "code",
   "execution_count": null,
   "metadata": {},
   "outputs": [],
   "source": [
    "# Task 5.0: Use yfinance and plot the price movement of the stock"
   ]
  }
 ],
 "metadata": {
  "kernelspec": {
   "display_name": "Python 3",
   "language": "python",
   "name": "python3"
  },
  "language_info": {
   "codemirror_mode": {
    "name": "ipython",
    "version": 3
   },
   "file_extension": ".py",
   "mimetype": "text/x-python",
   "name": "python",
   "nbconvert_exporter": "python",
   "pygments_lexer": "ipython3",
   "version": "3.11.4"
  }
 },
 "nbformat": 4,
 "nbformat_minor": 2
}
