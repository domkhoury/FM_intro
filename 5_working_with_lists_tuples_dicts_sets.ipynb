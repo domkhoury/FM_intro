{
 "cells": [
  {
   "cell_type": "markdown",
   "metadata": {},
   "source": [
    "# Working with Lists, Tuples, Dictionaries, and Sets in Python\n",
    "\n",
    "This notebook demonstrates how to work with lists, tuples, dictionaries, and sets in Python. We will explain the differences between these variable types and provide examples from financial markets to illustrate their usage."
   ]
  },
  {
   "cell_type": "markdown",
   "metadata": {},
   "source": [
    "## 1. Lists\n",
    "\n",
    "Lists are ordered, mutable collections of items. They are used to store multiple items in a single variable.\n",
    "\n",
    "### Example: List of Stock Prices\n",
    "Let's create a list of stock prices and demonstrate how to access and modify elements."
   ]
  },
  {
   "cell_type": "code",
   "execution_count": null,
   "metadata": {},
   "outputs": [],
   "source": [
    "# List of stock prices\n",
    "stock_prices = [150.75, 153.30, 149.50, 155.00, 157.25]\n",
    "print(\"Stock prices:\", stock_prices)\n",
    "\n",
    "# Accessing elements\n",
    "print(\"First stock price:\", stock_prices[0])\n",
    "print(\"Last stock price:\", stock_prices[-1])\n",
    "\n",
    "# Modifying elements\n",
    "stock_prices[1] = 154.00\n",
    "print(\"Modified stock prices:\", stock_prices)\n",
    "\n",
    "# Adding elements\n",
    "stock_prices.append(160.00)\n",
    "print(\"Stock prices after adding a new price:\", stock_prices)\n",
    "\n",
    "# Removing elements\n",
    "stock_prices.remove(149.50)\n",
    "print(\"Stock prices after removing a price:\", stock_prices)"
   ]
  },
  {
   "cell_type": "markdown",
   "metadata": {},
   "source": [
    "## 2. Tuples\n",
    "\n",
    "Tuples are ordered, immutable collections of items. They are used to store multiple items in a single variable, but unlike lists, they cannot be modified after creation.\n",
    "\n",
    "### Example: Tuple of Stock Information\n",
    "Let's create a tuple to store information about a stock."
   ]
  },
  {
   "cell_type": "code",
   "execution_count": null,
   "metadata": {},
   "outputs": [],
   "source": [
    "# Tuple of stock information\n",
    "stock_info = (\"AAPL\", \"Apple Inc.\", 150.75)\n",
    "print(\"Stock information:\", stock_info)\n",
    "\n",
    "# Accessing elements\n",
    "print(\"Stock symbol:\", stock_info[0])\n",
    "print(\"Company name:\", stock_info[1])\n",
    "print(\"Stock price:\", stock_info[2])"
   ]
  },
  {
   "cell_type": "markdown",
   "metadata": {},
   "source": [
    "## 3. Dictionaries\n",
    "\n",
    "Dictionaries are unordered, mutable collections of key-value pairs. They are used to store data values in key-value pairs.\n",
    "\n",
    "### Example: Dictionary of Stock Prices\n",
    "Let's create a dictionary to store stock prices for different companies and demonstrate how to access and modify elements."
   ]
  },
  {
   "cell_type": "code",
   "execution_count": null,
   "metadata": {},
   "outputs": [],
   "source": [
    "# Dictionary of stock prices\n",
    "stock_prices = {\n",
    "    \"AAPL\": 150.75,\n",
    "    \"GOOGL\": 2800.50,\n",
    "    \"MSFT\": 299.00\n",
    "}\n",
    "print(\"Stock prices:\", stock_prices)\n",
    "\n",
    "# Accessing elements\n",
    "print(\"Price of AAPL:\", stock_prices[\"AAPL\"])\n",
    "\n",
    "# Modifying elements\n",
    "stock_prices[\"GOOGL\"] = 2820.00\n",
    "print(\"Modified stock prices:\", stock_prices)\n",
    "\n",
    "# Adding elements\n",
    "stock_prices[\"AMZN\"] = 3400.00\n",
    "print(\"Stock prices after adding a new stock:\", stock_prices)\n",
    "\n",
    "# Removing elements\n",
    "del stock_prices[\"MSFT\"]\n",
    "print(\"Stock prices after removing a stock:\", stock_prices)"
   ]
  },
  {
   "cell_type": "markdown",
   "metadata": {},
   "source": [
    "## 4. Sets\n",
    "\n",
    "Sets are unordered collections of unique items. They are used to store multiple items in a single variable, but unlike lists, they do not allow duplicate values.\n",
    "\n",
    "### Example: Set of Stock Symbols\n",
    "Let's create a set to store stock symbols and demonstrate how to add and remove elements."
   ]
  },
  {
   "cell_type": "code",
   "execution_count": null,
   "metadata": {},
   "outputs": [],
   "source": [
    "# Set of stock symbols\n",
    "stock_symbols = {\"AAPL\", \"GOOGL\", \"MSFT\"}\n",
    "print(\"Stock symbols:\", stock_symbols)\n",
    "\n",
    "# Adding elements\n",
    "stock_symbols.add(\"AMZN\")\n",
    "print(\"Stock symbols after adding a new symbol:\", stock_symbols)\n",
    "\n",
    "# Removing elements\n",
    "stock_symbols.remove(\"MSFT\")\n",
    "print(\"Stock symbols after removing a symbol:\", stock_symbols)"
   ]
  },
  {
   "cell_type": "markdown",
   "metadata": {},
   "source": [
    "### When to Use Sets\n",
    "Sets are particularly useful when you need to store a collection of unique items and perform operations like union, intersection, and difference. They are more efficient than lists for membership tests (checking if an item is in the set).\n",
    "\n",
    "### Example: Finding Unique Stock Symbols\n",
    "Let's find the unique stock symbols from two different lists of symbols."
   ]
  },
  {
   "cell_type": "code",
   "execution_count": null,
   "metadata": {},
   "outputs": [],
   "source": [
    "# Lists of stock symbols\n",
    "list1 = [\"AAPL\", \"GOOGL\", \"MSFT\", \"AAPL\"]\n",
    "list2 = [\"AMZN\", \"GOOGL\", \"TSLA\", \"MSFT\"]\n",
    "\n",
    "# Convert lists to sets to find unique symbols\n",
    "unique_symbols = set(list1).union(set(list2))\n",
    "print(\"Unique stock symbols:\", unique_symbols)"
   ]
  }
 ],
 "metadata": {
  "kernelspec": {
   "display_name": "Python 3",
   "language": "python",
   "name": "python3"
  },
  "language_info": {
   "codemirror_mode": {
    "name": "ipython",
    "version": 3
   },
   "file_extension": ".py",
   "mimetype": "text/x-python",
   "name": "python",
   "nbconvert_exporter": "python",
   "pygments_lexer": "ipython3",
   "version": "3.12.1"
  }
 },
 "nbformat": 4,
 "nbformat_minor": 4
}
