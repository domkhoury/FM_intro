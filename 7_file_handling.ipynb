{
 "cells": [
  {
   "cell_type": "markdown",
   "metadata": {},
   "source": [
    "# File Handling\n",
    "It can be useful to read and write data from and to files."
   ]
  },
  {
   "cell_type": "code",
   "execution_count": null,
   "metadata": {},
   "outputs": [],
   "source": [
    "# File Handling\n",
    "\n",
    "# Example: Writing to a file\n",
    "with open(\"example.txt\", \"w\") as file:\n",
    "    file.write(\"Hello, this is a test file.\\n\")\n",
    "    file.write(\"This file is used to demonstrate file handling in Python.\\n\")\n",
    "\n",
    "# Example: Reading from a file\n",
    "with open(\"example.txt\", \"r\") as file:\n",
    "    content = file.read()\n",
    "    print(\"File Content:\\n\", content)\n",
    "\n",
    "# Example: Appending to a file\n",
    "with open(\"example.txt\", \"a\") as file:\n",
    "    file.write(\"Appending a new line to the file.\\n\")\n",
    "\n",
    "# Example: Reading from a file after appending\n",
    "with open(\"example.txt\", \"r\") as file:\n",
    "    content = file.read()\n",
    "    print(\"Updated File Content:\\n\", content)"
   ]
  }
 ],
 "metadata": {
  "language_info": {
   "name": "python"
  }
 },
 "nbformat": 4,
 "nbformat_minor": 2
}
