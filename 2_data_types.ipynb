{
 "cells": [
  {
   "cell_type": "markdown",
   "metadata": {},
   "source": [
    "# Python Data Types\n",
    "\n",
    "Python is a versatile programming language that supports various data types. Understanding these data types is crucial for effectively working with financial market data. Below, we explore different Python data types using examples from financial markets.\n",
    "\n",
    "Here we are also introducing the concept of a **variable**.   Think of a variable as a value stored in the computers memory.   We can manipulate variables and retrieve the data stored in them in our programs.\n",
    "\n"
   ]
  },
  {
   "cell_type": "markdown",
   "metadata": {},
   "source": [
    "## 1. Numeric Types\n",
    "\n",
    "### Integer\n",
    "Integers are whole numbers without a decimal point. In financial markets, integers can represent the number of shares traded for example.   So we create a variable called `shares_traded` and assign an integer to it.\n",
    "\n"
   ]
  },
  {
   "cell_type": "code",
   "execution_count": null,
   "metadata": {},
   "outputs": [],
   "source": [
    "# Number of shares traded\n",
    "shares_traded = 1500\n",
    "print(shares_traded)"
   ]
  },
  {
   "cell_type": "markdown",
   "metadata": {},
   "source": [
    "### Float\n",
    "Floats are numbers with a decimal point. They are used to represent prices, exchange rates, and other financial metrics."
   ]
  },
  {
   "cell_type": "code",
   "execution_count": null,
   "metadata": {},
   "outputs": [],
   "source": [
    "# Stock price\n",
    "stock_price = 123.45\n",
    "print(stock_price)"
   ]
  },
  {
   "cell_type": "markdown",
   "metadata": {},
   "source": [
    "## 2. Sequence Types\n",
    "\n",
    "### String\n",
    "Strings are sequences of characters. They are used to represent textual data such as stock symbols and company names.\n"
   ]
  },
  {
   "cell_type": "code",
   "execution_count": null,
   "metadata": {},
   "outputs": [],
   "source": [
    "# Stock symbol\n",
    "stock_symbol = \"AAPL\"\n",
    "print(stock_symbol)\n",
    "\n",
    "# Company name\n",
    "company_name = \"Apple Inc.\"\n",
    "print(company_name)"
   ]
  },
  {
   "cell_type": "markdown",
   "metadata": {},
   "source": [
    "### List\n",
    "Lists are ordered collections of items. They can store multiple values, such as historical stock prices or a list of stock symbols.\n",
    "\n"
   ]
  },
  {
   "cell_type": "code",
   "execution_count": null,
   "metadata": {},
   "outputs": [],
   "source": [
    "# Historical stock prices\n",
    "historical_prices = [120.34, 121.45, 119.56, 122.78]\n",
    "print(historical_prices)\n",
    "\n",
    "# List of stock symbols\n",
    "stock_symbols = [\"AAPL\", \"GOOGL\", \"MSFT\"]\n",
    "print(stock_symbols)"
   ]
  },
  {
   "cell_type": "markdown",
   "metadata": {},
   "source": [
    "### Tuple\n",
    "Tuples are similar to lists but are immutable. They can be used to store fixed collections of data, such as the open, high, low, and close prices of a stock for a day.\n",
    "\n"
   ]
  },
  {
   "cell_type": "code",
   "execution_count": null,
   "metadata": {},
   "outputs": [],
   "source": [
    "# OHLC (Open, High, Low, Close) prices\n",
    "ohlc_prices = (120.34, 122.00, 119.50, 121.45)\n",
    "print(ohlc_prices)"
   ]
  },
  {
   "cell_type": "markdown",
   "metadata": {},
   "source": [
    "## 3. Mapping Type\n",
    "\n",
    "### Dictionary\n",
    "Dictionaries store data in key-value pairs. They are useful for storing related information, such as stock symbols and their corresponding prices.\n",
    "\n",
    "\n"
   ]
  },
  {
   "cell_type": "code",
   "execution_count": null,
   "metadata": {},
   "outputs": [],
   "source": [
    "# Stock prices dictionary\n",
    "stock_prices = {\n",
    "    \"AAPL\": 123.45,\n",
    "    \"GOOGL\": 2345.67,\n",
    "    \"MSFT\": 289.12\n",
    "}\n",
    "print(stock_prices)"
   ]
  },
  {
   "cell_type": "markdown",
   "metadata": {},
   "source": [
    "## 4. Set Types\n",
    "\n",
    "### Set\n",
    "Sets are unordered collections of unique items. They can be used to store unique stock symbols or unique trading dates.\n",
    "\n"
   ]
  },
  {
   "cell_type": "code",
   "execution_count": null,
   "metadata": {},
   "outputs": [],
   "source": [
    "# Unique stock symbols\n",
    "unique_symbols = {\"AAPL\", \"GOOGL\", \"MSFT\"}\n",
    "print(unique_symbols)\n",
    "\n",
    "# Unique trading dates\n",
    "trading_dates = {\"2021-01-01\", \"2021-01-02\", \"2021-01-03\"}\n",
    "print(trading_dates)"
   ]
  },
  {
   "cell_type": "markdown",
   "metadata": {},
   "source": [
    "## 5. Boolean Type\n",
    "\n",
    "### Boolean\n",
    "Booleans represent one of two values: `True` or `False`. They are used for conditional statements and to represent binary states, such as whether a market is open or closed.\n",
    "\n"
   ]
  },
  {
   "cell_type": "code",
   "execution_count": 3,
   "metadata": {},
   "outputs": [
    {
     "name": "stdout",
     "output_type": "stream",
     "text": [
      "True\n"
     ]
    }
   ],
   "source": [
    "# Market open status\n",
    "market_open = True\n",
    "print(market_open)"
   ]
  },
  {
   "cell_type": "code",
   "execution_count": 4,
   "metadata": {},
   "outputs": [
    {
     "name": "stdout",
     "output_type": "stream",
     "text": [
      "False\n"
     ]
    }
   ],
   "source": [
    "# Market closed status\n",
    "market_closed = False\n",
    "print(market_closed)"
   ]
  },
  {
   "cell_type": "markdown",
   "metadata": {},
   "source": [
    "Understanding these data types and how to use them effectively is essential for analyzing and processing financial market data in Python. Each data type serves a specific purpose and can help you manage and manipulate financial information efficiently.\n",
    "```"
   ]
  }
 ],
 "metadata": {
  "kernelspec": {
   "display_name": "Python 3",
   "language": "python",
   "name": "python3"
  },
  "language_info": {
   "codemirror_mode": {
    "name": "ipython",
    "version": 3
   },
   "file_extension": ".py",
   "mimetype": "text/x-python",
   "name": "python",
   "nbconvert_exporter": "python",
   "pygments_lexer": "ipython3",
   "version": "3.12.1"
  }
 },
 "nbformat": 4,
 "nbformat_minor": 2
}
