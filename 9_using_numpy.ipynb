{
 "cells": [
  {
   "cell_type": "markdown",
   "metadata": {},
   "source": [
    "# Using NumPy for Financial Markets Analysis\n",
    "\n",
    "This notebook provides a comprehensive guide on how to use NumPy for financial markets analysis. NumPy is a powerful library for numerical computing in Python. It provides support for arrays, matrices, and many mathematical functions that are essential for financial data analysis."
   ]
  },
  {
   "cell_type": "markdown",
   "metadata": {},
   "source": [
    "## 1. Introduction to NumPy\n",
    "\n",
    "NumPy (Numerical Python) is a library that provides support for large, multi-dimensional arrays and matrices, along with a collection of mathematical functions to operate on these arrays.\n",
    "\n",
    "### Importing NumPy\n",
    "First, we need to import the NumPy library."
   ]
  },
  {
   "cell_type": "code",
   "execution_count": null,
   "metadata": {},
   "outputs": [],
   "source": [
    "import numpy as np"
   ]
  },
  {
   "cell_type": "markdown",
   "metadata": {},
   "source": [
    "## 2. Creating NumPy Arrays\n",
    "\n",
    "NumPy arrays are the main way to store data in NumPy. They are similar to Python lists but provide more functionality and better performance.\n",
    "\n",
    "### Creating Arrays from Lists\n",
    "You can create a NumPy array from a Python list."
   ]
  },
  {
   "cell_type": "code",
   "execution_count": null,
   "metadata": {},
   "outputs": [],
   "source": [
    "# Creating a NumPy array from a list\n",
    "stock_prices = [150.75, 153.30, 149.50, 155.00, 157.25]\n",
    "np_stock_prices = np.array(stock_prices)\n",
    "print(np_stock_prices)"
   ]
  },
  {
   "cell_type": "markdown",
   "metadata": {},
   "source": [
    "### Creating Arrays with NumPy Functions\n",
    "NumPy provides several functions to create arrays with specific values or patterns."
   ]
  },
  {
   "cell_type": "code",
   "execution_count": null,
   "metadata": {},
   "outputs": [],
   "source": [
    "# Creating an array of zeros\n",
    "zeros_array = np.zeros(5)\n",
    "print(zeros_array)\n",
    "\n",
    "# Creating an array of ones\n",
    "ones_array = np.ones(5)\n",
    "print(ones_array)\n",
    "\n",
    "# Creating an array with a range of values\n",
    "range_array = np.arange(1, 6)\n",
    "print(range_array)\n",
    "\n",
    "# Creating an array with evenly spaced values\n",
    "linspace_array = np.linspace(0, 1, 5)\n",
    "print(linspace_array)"
   ]
  },
  {
   "cell_type": "markdown",
   "metadata": {},
   "source": [
    "## 3. Basic Operations on NumPy Arrays\n",
    "\n",
    "You can perform various mathematical operations on NumPy arrays."
   ]
  },
  {
   "cell_type": "code",
   "execution_count": null,
   "metadata": {},
   "outputs": [],
   "source": [
    "# Basic arithmetic operations\n",
    "array1 = np.array([1, 2, 3, 4, 5])\n",
    "array2 = np.array([10, 20, 30, 40, 50])\n",
    "\n",
    "print(\"Addition:\", array1 + array2)\n",
    "print(\"Subtraction:\", array1 - array2)\n",
    "print(\"Multiplication:\", array1 * array2)\n",
    "print(\"Division:\", array1 / array2)"
   ]
  },
  {
   "cell_type": "markdown",
   "metadata": {},
   "source": [
    "### Statistical Operations\n",
    "NumPy provides several functions to perform statistical operations on arrays."
   ]
  },
  {
   "cell_type": "code",
   "execution_count": null,
   "metadata": {},
   "outputs": [],
   "source": [
    "# Statistical operations\n",
    "print(\"Mean:\", np.mean(np_stock_prices))\n",
    "print(\"Median:\", np.median(np_stock_prices))\n",
    "print(\"Standard Deviation:\", np.std(np_stock_prices))\n",
    "print(\"Variance:\", np.var(np_stock_prices))"
   ]
  },
  {
   "cell_type": "markdown",
   "metadata": {},
   "source": [
    "## 4. Indexing and Slicing NumPy Arrays\n",
    "\n",
    "You can access and modify elements in NumPy arrays using indexing and slicing."
   ]
  },
  {
   "cell_type": "code",
   "execution_count": null,
   "metadata": {},
   "outputs": [],
   "source": [
    "# Indexing\n",
    "print(\"First element:\", np_stock_prices[0])\n",
    "print(\"Last element:\", np_stock_prices[-1])\n",
    "\n",
    "# Slicing\n",
    "print(\"First three elements:\", np_stock_prices[:3])\n",
    "print(\"Last two elements:\", np_stock_prices[-2:])\n",
    "\n",
    "# Modifying elements\n",
    "np_stock_prices[0] = 160.00\n",
    "print(\"Modified array:\", np_stock_prices)"
   ]
  },
  {
   "cell_type": "markdown",
   "metadata": {},
   "source": [
    "## 5. Working with Multi-Dimensional Arrays\n",
    "\n",
    "NumPy supports multi-dimensional arrays (matrices)."
   ]
  },
  {
   "cell_type": "code",
   "execution_count": null,
   "metadata": {},
   "outputs": [],
   "source": [
    "# Creating a 2D array (matrix)\n",
    "matrix = np.array([[1, 2, 3], [4, 5, 6], [7, 8, 9]])\n",
    "print(matrix)\n",
    "\n",
    "# Accessing elements in a 2D array\n",
    "print(\"Element at (0, 0):\", matrix[0, 0])\n",
    "print(\"Element at (1, 2):\", matrix[1, 2])\n",
    "\n",
    "# Slicing a 2D array\n",
    "print(\"First two rows:\", matrix[:2, :])\n",
    "print(\"Last two columns:\", matrix[:, -2:])"
   ]
  },
  {
   "cell_type": "markdown",
   "metadata": {},
   "source": [
    "## 6. Financial Markets Examples\n",
    "\n",
    "### Example 1: Calculating Log Returns\n",
    "Log returns are commonly used in financial analysis to measure the rate of return of an investment."
   ]
  },
  {
   "cell_type": "code",
   "execution_count": null,
   "metadata": {},
   "outputs": [],
   "source": [
    "# Calculating log returns\n",
    "prices = np.array([100, 101, 102, 103, 104])\n",
    "log_returns = np.log(prices[1:] / prices[:-1])\n",
    "print(\"Log returns:\", log_returns)"
   ]
  },
  {
   "cell_type": "markdown",
   "metadata": {},
   "source": [
    "### Example 2: Portfolio Returns\n",
    "Let's calculate the returns of a portfolio consisting of multiple stocks."
   ]
  },
  {
   "cell_type": "code",
   "execution_count": null,
   "metadata": {},
   "outputs": [],
   "source": [
    "# Portfolio returns\n",
    "weights = np.array([0.4, 0.3, 0.3])  # Portfolio weights for AAPL, GOOGL, MSFT\n",
    "returns = np.array([0.01, 0.02, 0.015])  # Daily returns for AAPL, GOOGL, MSFT\n",
    "portfolio_return = np.dot(weights, returns)\n",
    "print(\"Portfolio return:\", portfolio_return)"
   ]
  },
  {
   "cell_type": "markdown",
   "metadata": {},
   "source": [
    "### Example 3: Covariance Matrix\n",
    "The covariance matrix is used to measure the relationship between different stocks in a portfolio."
   ]
  },
  {
   "cell_type": "code",
   "execution_count": null,
   "metadata": {},
   "outputs": [],
   "source": [
    "# Covariance matrix\n",
    "returns_matrix = np.array([\n",
    "    [0.01, 0.02, 0.015],\n",
    "    [0.02, 0.025, 0.02],\n",
    "    [0.015, 0.02, 0.01]\n",
    "])\n",
    "cov_matrix = np.cov(returns_matrix.T)\n",
    "print(\"Covariance matrix:\", cov_matrix)"
   ]
  }
 ],
 "metadata": {
  "kernelspec": {
   "display_name": "Python 3",
   "language": "python",
   "name": "python3"
  },
  "language_info": {
   "codemirror_mode": {
    "name": "ipython",
    "version": 3
   },
   "file_extension": ".py",
   "mimetype": "text/x-python",
   "name": "python",
   "nbconvert_exporter": "python",
   "pygments_lexer": "ipython3",
   "version": "3.12.1"
  }
 },
 "nbformat": 4,
 "nbformat_minor": 4
}
