{
 "cells": [
  {
   "cell_type": "markdown",
   "metadata": {},
   "source": [
    "# What is Python\n",
    "\n",
    "Python is a high-level, interpreted programming language known for its simplicity and readability. It is widely used in various fields, including finance, web development, data analysis, artificial intelligence, scientific computing, and more. Python's syntax is designed to be easy to read and write, making it an excellent choice for beginners and experienced programmers alike."
   ]
  },
  {
   "cell_type": "markdown",
   "metadata": {},
   "source": [
    "## Executing Commands Directly at the Terminal Command Prompt\n",
    "\n",
    "You can execute Python commands directly at the terminal command prompt. This is useful for quickly testing small pieces of code or performing simple calculations.\n",
    "\n",
    "### Example\n",
    "1. Open your terminal (Command Prompt on Windows, Terminal on macOS or Linux).  You can also simply open the Terminal tab at the bottom of VSCode.\n",
    "2. Type `python` or `python3` (depending on your installation) and press `Enter` to start the Python interactive shell.\n",
    "3. You will see the Python prompt (`>>>`), indicating that you can start entering Python commands.\n",
    "\n",
    "```bash\n",
    "$ python\n",
    "Python 3.9.1 (default, Dec  8 2020, 07:51:42) \n",
    "[Clang 12.0.0 (clang-1200.0.32.27)] on darwin\n",
    "Type \"help\", \"copyright\", \"credits\" or \"license\" for more information.\n",
    ">>>\n",
    "```\n",
    "\n",
    "### Running Python Commands\n",
    "You can now enter Python commands directly at the prompt. For example:\n",
    "\n",
    "```python\n",
    ">>> print(\"Hello, World!\")\n",
    "Hello, World!\n",
    ">>> 2 + 2\n",
    "4\n",
    ">>> import math\n",
    ">>> math.sqrt(16)\n",
    "4.0\n",
    "```\n",
    "\n",
    "To exit the Python interactive shell, type `exit()` or press `Ctrl+D` (on macOS or Linux) or `Ctrl+Z` followed by `Enter` (on Windows)."
   ]
  },
  {
   "cell_type": "markdown",
   "metadata": {},
   "source": [
    "## Using the Command Prompt at the Terminal to Run Code in a .py File\n",
    "\n",
    "You can also write Python code in a `.py` file and execute it from the terminal. This is useful for running larger scripts or programs.\n",
    "\n",
    "### Example\n",
    "1. Open a text editor (such as VSCode, Sublime Text, or Notepad++) and create a new file named `example.py`.\n",
    "2. Write your Python code in the file. For example:\n",
    "\n",
    "```python\n",
    "# example.py\n",
    "print(\"Hello, World!\")\n",
    "\n",
    "def add(a, b):\n",
    "    return a + b\n",
    "\n",
    "result = add(2, 3)\n",
    "print(\"The sum of 2 and 3 is:\", result)\n",
    "```\n",
    "\n",
    "3. Save the file and close the text editor.\n",
    "4. Open your terminal (Command Prompt on Windows, Terminal on macOS or Linux).\n",
    "5. Navigate to the directory where you saved `example.py` using the `cd` command. For example:\n",
    "\n",
    "```bash\n",
    "$ cd path/to/your/file\n",
    "```\n",
    "\n",
    "6. Run the Python script by typing `python example.py` or `python3 example.py` (depending on your installation) and pressing `Enter`.\n",
    "\n",
    "```bash\n",
    "$ python example.py\n",
    "Hello, World!\n",
    "The sum of 2 and 3 is: 5\n",
    "```\n",
    "\n",
    "### Explanation\n",
    "- The `print(\"Hello, World!\")` statement prints the message \"Hello, World!\" to the terminal.\n",
    "- The `add` function takes two arguments, `a` and `b`, and returns their sum.\n",
    "- The `result` variable stores the result of calling the `add` function with arguments `2` and `3`.\n",
    "- The `print(\"The sum of 2 and 3 is:\", result)` statement prints the message \"The sum of 2 and 3 is: 5\" to the terminal."
   ]
  }
 ],
 "metadata": {
  "kernelspec": {
   "display_name": "Python 3",
   "language": "python",
   "name": "python3"
  },
  "language_info": {
   "codemirror_mode": {
    "name": "ipython",
    "version": 3
   },
   "file_extension": ".py",
   "mimetype": "text/x-python",
   "name": "python",
   "nbconvert_exporter": "python",
   "pygments_lexer": "ipython3",
   "version": "3.12.1"
  }
 },
 "nbformat": 4,
 "nbformat_minor": 4
}
